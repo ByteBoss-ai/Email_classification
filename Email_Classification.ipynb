{
  "nbformat": 4,
  "nbformat_minor": 0,
  "metadata": {
    "colab": {
      "provenance": [],
      "authorship_tag": "ABX9TyNW7DR+AT86UzaeBX78Dn5v",
      "include_colab_link": true
    },
    "kernelspec": {
      "name": "python3",
      "display_name": "Python 3"
    },
    "language_info": {
      "name": "python"
    }
  },
  "cells": [
    {
      "cell_type": "markdown",
      "metadata": {
        "id": "view-in-github",
        "colab_type": "text"
      },
      "source": [
        "<a href=\"https://colab.research.google.com/github/ByteBoss-ai/Email_classification/blob/main/Email_Classification.ipynb\" target=\"_parent\"><img src=\"https://colab.research.google.com/assets/colab-badge.svg\" alt=\"Open In Colab\"/></a>"
      ]
    },
    {
      "cell_type": "markdown",
      "source": [
        "# 1. Setup & Imports"
      ],
      "metadata": {
        "id": "XqugMqx9Q8Zn"
      }
    },
    {
      "cell_type": "code",
      "source": [
        "# Import Libraries\n",
        "import pandas as pd\n",
        "import numpy as np\n",
        "import re\n",
        "import string\n",
        "from sklearn.model_selection import train_test_split\n",
        "from sklearn.feature_extraction.text import TfidfVectorizer\n",
        "from sklearn.naive_bayes import MultinomialNB\n",
        "from sklearn.linear_model import LogisticRegression\n",
        "from sklearn.metrics import accuracy_score, confusion_matrix, classification_report, roc_auc_score\n",
        "from nltk.corpus import stopwords\n",
        "import nltk"
      ],
      "metadata": {
        "id": "Cy5WuFDbHEFZ"
      },
      "execution_count": 41,
      "outputs": []
    },
    {
      "cell_type": "code",
      "source": [
        "# Download stopwords\n",
        "nltk.download('stopwords')"
      ],
      "metadata": {
        "colab": {
          "base_uri": "https://localhost:8080/"
        },
        "id": "6NnDv5SeNBMY",
        "outputId": "318fea5f-6449-4d2b-d56b-4ec64a9d04ef"
      },
      "execution_count": null,
      "outputs": [
        {
          "output_type": "stream",
          "name": "stderr",
          "text": [
            "[nltk_data] Downloading package stopwords to /root/nltk_data...\n",
            "[nltk_data]   Package stopwords is already up-to-date!\n"
          ]
        },
        {
          "output_type": "execute_result",
          "data": {
            "text/plain": [
              "True"
            ]
          },
          "metadata": {},
          "execution_count": 2
        }
      ]
    },
    {
      "cell_type": "markdown",
      "source": [
        "# 2. Dataset Overview"
      ],
      "metadata": {
        "id": "MEv4atk6RNEX"
      }
    },
    {
      "cell_type": "code",
      "source": [
        "# Load dataset\n",
        "import kagglehub\n",
        "from kagglehub import KaggleDatasetAdapter\n",
        "\n",
        "file_path = \"combined_data.csv\"\n",
        "\n",
        "df = kagglehub.load_dataset(\n",
        "  KaggleDatasetAdapter.PANDAS,\n",
        "    \"purusinghvi/email-spam-classification-dataset\",\n",
        "      file_path\n",
        ")"
      ],
      "metadata": {
        "colab": {
          "base_uri": "https://localhost:8080/"
        },
        "id": "Z3g-xIYEHOZd",
        "outputId": "11ceb7c5-e28a-4c1e-de49-85f6eb0c1496"
      },
      "execution_count": null,
      "outputs": [
        {
          "output_type": "stream",
          "name": "stderr",
          "text": [
            "/tmp/ipython-input-1992583218.py:7: DeprecationWarning: Use dataset_load() instead of load_dataset(). load_dataset() will be removed in a future version.\n",
            "  df = kagglehub.load_dataset(\n"
          ]
        },
        {
          "output_type": "stream",
          "name": "stdout",
          "text": [
            "Using Colab cache for faster access to the 'email-spam-classification-dataset' dataset.\n"
          ]
        }
      ]
    },
    {
      "cell_type": "markdown",
      "source": [
        "**EXPORATORY DATA ANALYSIS**"
      ],
      "metadata": {
        "id": "x82XJjRSPWTp"
      }
    },
    {
      "cell_type": "code",
      "source": [
        "df.shape"
      ],
      "metadata": {
        "colab": {
          "base_uri": "https://localhost:8080/"
        },
        "id": "t2dqS2ByK3Al",
        "outputId": "57154cbc-d753-4322-cdd5-53be88a0b675"
      },
      "execution_count": null,
      "outputs": [
        {
          "output_type": "execute_result",
          "data": {
            "text/plain": [
              "(83448, 2)"
            ]
          },
          "metadata": {},
          "execution_count": 4
        }
      ]
    },
    {
      "cell_type": "code",
      "source": [
        "df.columns.tolist()"
      ],
      "metadata": {
        "colab": {
          "base_uri": "https://localhost:8080/"
        },
        "id": "odImJyXgPwJi",
        "outputId": "d46ee6c7-6e26-4cb3-f5df-886de09bd41f"
      },
      "execution_count": null,
      "outputs": [
        {
          "output_type": "execute_result",
          "data": {
            "text/plain": [
              "['label', 'text']"
            ]
          },
          "metadata": {},
          "execution_count": 5
        }
      ]
    },
    {
      "cell_type": "code",
      "source": [
        "df.info()"
      ],
      "metadata": {
        "colab": {
          "base_uri": "https://localhost:8080/"
        },
        "id": "ZWAPO8DgPQzc",
        "outputId": "d34411bf-5014-487e-d9b2-ac2ef32109ec"
      },
      "execution_count": null,
      "outputs": [
        {
          "output_type": "stream",
          "name": "stdout",
          "text": [
            "<class 'pandas.core.frame.DataFrame'>\n",
            "RangeIndex: 83448 entries, 0 to 83447\n",
            "Data columns (total 2 columns):\n",
            " #   Column  Non-Null Count  Dtype \n",
            "---  ------  --------------  ----- \n",
            " 0   label   83448 non-null  int64 \n",
            " 1   text    83448 non-null  object\n",
            "dtypes: int64(1), object(1)\n",
            "memory usage: 1.3+ MB\n"
          ]
        }
      ]
    },
    {
      "cell_type": "code",
      "source": [
        "df.head(8)"
      ],
      "metadata": {
        "colab": {
          "base_uri": "https://localhost:8080/",
          "height": 300
        },
        "id": "821cijunRXag",
        "outputId": "05226f5f-02ff-4238-a5e5-dc75586ca922"
      },
      "execution_count": null,
      "outputs": [
        {
          "output_type": "execute_result",
          "data": {
            "text/plain": [
              "   label                                               text\n",
              "0      1  ounce feather bowl hummingbird opec moment ala...\n",
              "1      1  wulvob get your medircations online qnb ikud v...\n",
              "2      0   computer connection from cnn com wednesday es...\n",
              "3      1  university degree obtain a prosperous future m...\n",
              "4      0  thanks for all your answers guys i know i shou...\n",
              "5      0  larry king live at escapenumber escapenumber p...\n",
              "6      0  michael pobega wrote i'm not sure if it's the ...\n",
              "7      0  hi i have this error tr sample escapenumber es..."
            ],
            "text/html": [
              "\n",
              "  <div id=\"df-436666e1-6f3f-4cc5-8c57-930c4ea44b09\" class=\"colab-df-container\">\n",
              "    <div>\n",
              "<style scoped>\n",
              "    .dataframe tbody tr th:only-of-type {\n",
              "        vertical-align: middle;\n",
              "    }\n",
              "\n",
              "    .dataframe tbody tr th {\n",
              "        vertical-align: top;\n",
              "    }\n",
              "\n",
              "    .dataframe thead th {\n",
              "        text-align: right;\n",
              "    }\n",
              "</style>\n",
              "<table border=\"1\" class=\"dataframe\">\n",
              "  <thead>\n",
              "    <tr style=\"text-align: right;\">\n",
              "      <th></th>\n",
              "      <th>label</th>\n",
              "      <th>text</th>\n",
              "    </tr>\n",
              "  </thead>\n",
              "  <tbody>\n",
              "    <tr>\n",
              "      <th>0</th>\n",
              "      <td>1</td>\n",
              "      <td>ounce feather bowl hummingbird opec moment ala...</td>\n",
              "    </tr>\n",
              "    <tr>\n",
              "      <th>1</th>\n",
              "      <td>1</td>\n",
              "      <td>wulvob get your medircations online qnb ikud v...</td>\n",
              "    </tr>\n",
              "    <tr>\n",
              "      <th>2</th>\n",
              "      <td>0</td>\n",
              "      <td>computer connection from cnn com wednesday es...</td>\n",
              "    </tr>\n",
              "    <tr>\n",
              "      <th>3</th>\n",
              "      <td>1</td>\n",
              "      <td>university degree obtain a prosperous future m...</td>\n",
              "    </tr>\n",
              "    <tr>\n",
              "      <th>4</th>\n",
              "      <td>0</td>\n",
              "      <td>thanks for all your answers guys i know i shou...</td>\n",
              "    </tr>\n",
              "    <tr>\n",
              "      <th>5</th>\n",
              "      <td>0</td>\n",
              "      <td>larry king live at escapenumber escapenumber p...</td>\n",
              "    </tr>\n",
              "    <tr>\n",
              "      <th>6</th>\n",
              "      <td>0</td>\n",
              "      <td>michael pobega wrote i'm not sure if it's the ...</td>\n",
              "    </tr>\n",
              "    <tr>\n",
              "      <th>7</th>\n",
              "      <td>0</td>\n",
              "      <td>hi i have this error tr sample escapenumber es...</td>\n",
              "    </tr>\n",
              "  </tbody>\n",
              "</table>\n",
              "</div>\n",
              "    <div class=\"colab-df-buttons\">\n",
              "\n",
              "  <div class=\"colab-df-container\">\n",
              "    <button class=\"colab-df-convert\" onclick=\"convertToInteractive('df-436666e1-6f3f-4cc5-8c57-930c4ea44b09')\"\n",
              "            title=\"Convert this dataframe to an interactive table.\"\n",
              "            style=\"display:none;\">\n",
              "\n",
              "  <svg xmlns=\"http://www.w3.org/2000/svg\" height=\"24px\" viewBox=\"0 -960 960 960\">\n",
              "    <path d=\"M120-120v-720h720v720H120Zm60-500h600v-160H180v160Zm220 220h160v-160H400v160Zm0 220h160v-160H400v160ZM180-400h160v-160H180v160Zm440 0h160v-160H620v160ZM180-180h160v-160H180v160Zm440 0h160v-160H620v160Z\"/>\n",
              "  </svg>\n",
              "    </button>\n",
              "\n",
              "  <style>\n",
              "    .colab-df-container {\n",
              "      display:flex;\n",
              "      gap: 12px;\n",
              "    }\n",
              "\n",
              "    .colab-df-convert {\n",
              "      background-color: #E8F0FE;\n",
              "      border: none;\n",
              "      border-radius: 50%;\n",
              "      cursor: pointer;\n",
              "      display: none;\n",
              "      fill: #1967D2;\n",
              "      height: 32px;\n",
              "      padding: 0 0 0 0;\n",
              "      width: 32px;\n",
              "    }\n",
              "\n",
              "    .colab-df-convert:hover {\n",
              "      background-color: #E2EBFA;\n",
              "      box-shadow: 0px 1px 2px rgba(60, 64, 67, 0.3), 0px 1px 3px 1px rgba(60, 64, 67, 0.15);\n",
              "      fill: #174EA6;\n",
              "    }\n",
              "\n",
              "    .colab-df-buttons div {\n",
              "      margin-bottom: 4px;\n",
              "    }\n",
              "\n",
              "    [theme=dark] .colab-df-convert {\n",
              "      background-color: #3B4455;\n",
              "      fill: #D2E3FC;\n",
              "    }\n",
              "\n",
              "    [theme=dark] .colab-df-convert:hover {\n",
              "      background-color: #434B5C;\n",
              "      box-shadow: 0px 1px 3px 1px rgba(0, 0, 0, 0.15);\n",
              "      filter: drop-shadow(0px 1px 2px rgba(0, 0, 0, 0.3));\n",
              "      fill: #FFFFFF;\n",
              "    }\n",
              "  </style>\n",
              "\n",
              "    <script>\n",
              "      const buttonEl =\n",
              "        document.querySelector('#df-436666e1-6f3f-4cc5-8c57-930c4ea44b09 button.colab-df-convert');\n",
              "      buttonEl.style.display =\n",
              "        google.colab.kernel.accessAllowed ? 'block' : 'none';\n",
              "\n",
              "      async function convertToInteractive(key) {\n",
              "        const element = document.querySelector('#df-436666e1-6f3f-4cc5-8c57-930c4ea44b09');\n",
              "        const dataTable =\n",
              "          await google.colab.kernel.invokeFunction('convertToInteractive',\n",
              "                                                    [key], {});\n",
              "        if (!dataTable) return;\n",
              "\n",
              "        const docLinkHtml = 'Like what you see? Visit the ' +\n",
              "          '<a target=\"_blank\" href=https://colab.research.google.com/notebooks/data_table.ipynb>data table notebook</a>'\n",
              "          + ' to learn more about interactive tables.';\n",
              "        element.innerHTML = '';\n",
              "        dataTable['output_type'] = 'display_data';\n",
              "        await google.colab.output.renderOutput(dataTable, element);\n",
              "        const docLink = document.createElement('div');\n",
              "        docLink.innerHTML = docLinkHtml;\n",
              "        element.appendChild(docLink);\n",
              "      }\n",
              "    </script>\n",
              "  </div>\n",
              "\n",
              "\n",
              "    <div id=\"df-1db3b49c-078e-4988-9721-8709985d6ae3\">\n",
              "      <button class=\"colab-df-quickchart\" onclick=\"quickchart('df-1db3b49c-078e-4988-9721-8709985d6ae3')\"\n",
              "                title=\"Suggest charts\"\n",
              "                style=\"display:none;\">\n",
              "\n",
              "<svg xmlns=\"http://www.w3.org/2000/svg\" height=\"24px\"viewBox=\"0 0 24 24\"\n",
              "     width=\"24px\">\n",
              "    <g>\n",
              "        <path d=\"M19 3H5c-1.1 0-2 .9-2 2v14c0 1.1.9 2 2 2h14c1.1 0 2-.9 2-2V5c0-1.1-.9-2-2-2zM9 17H7v-7h2v7zm4 0h-2V7h2v10zm4 0h-2v-4h2v4z\"/>\n",
              "    </g>\n",
              "</svg>\n",
              "      </button>\n",
              "\n",
              "<style>\n",
              "  .colab-df-quickchart {\n",
              "      --bg-color: #E8F0FE;\n",
              "      --fill-color: #1967D2;\n",
              "      --hover-bg-color: #E2EBFA;\n",
              "      --hover-fill-color: #174EA6;\n",
              "      --disabled-fill-color: #AAA;\n",
              "      --disabled-bg-color: #DDD;\n",
              "  }\n",
              "\n",
              "  [theme=dark] .colab-df-quickchart {\n",
              "      --bg-color: #3B4455;\n",
              "      --fill-color: #D2E3FC;\n",
              "      --hover-bg-color: #434B5C;\n",
              "      --hover-fill-color: #FFFFFF;\n",
              "      --disabled-bg-color: #3B4455;\n",
              "      --disabled-fill-color: #666;\n",
              "  }\n",
              "\n",
              "  .colab-df-quickchart {\n",
              "    background-color: var(--bg-color);\n",
              "    border: none;\n",
              "    border-radius: 50%;\n",
              "    cursor: pointer;\n",
              "    display: none;\n",
              "    fill: var(--fill-color);\n",
              "    height: 32px;\n",
              "    padding: 0;\n",
              "    width: 32px;\n",
              "  }\n",
              "\n",
              "  .colab-df-quickchart:hover {\n",
              "    background-color: var(--hover-bg-color);\n",
              "    box-shadow: 0 1px 2px rgba(60, 64, 67, 0.3), 0 1px 3px 1px rgba(60, 64, 67, 0.15);\n",
              "    fill: var(--button-hover-fill-color);\n",
              "  }\n",
              "\n",
              "  .colab-df-quickchart-complete:disabled,\n",
              "  .colab-df-quickchart-complete:disabled:hover {\n",
              "    background-color: var(--disabled-bg-color);\n",
              "    fill: var(--disabled-fill-color);\n",
              "    box-shadow: none;\n",
              "  }\n",
              "\n",
              "  .colab-df-spinner {\n",
              "    border: 2px solid var(--fill-color);\n",
              "    border-color: transparent;\n",
              "    border-bottom-color: var(--fill-color);\n",
              "    animation:\n",
              "      spin 1s steps(1) infinite;\n",
              "  }\n",
              "\n",
              "  @keyframes spin {\n",
              "    0% {\n",
              "      border-color: transparent;\n",
              "      border-bottom-color: var(--fill-color);\n",
              "      border-left-color: var(--fill-color);\n",
              "    }\n",
              "    20% {\n",
              "      border-color: transparent;\n",
              "      border-left-color: var(--fill-color);\n",
              "      border-top-color: var(--fill-color);\n",
              "    }\n",
              "    30% {\n",
              "      border-color: transparent;\n",
              "      border-left-color: var(--fill-color);\n",
              "      border-top-color: var(--fill-color);\n",
              "      border-right-color: var(--fill-color);\n",
              "    }\n",
              "    40% {\n",
              "      border-color: transparent;\n",
              "      border-right-color: var(--fill-color);\n",
              "      border-top-color: var(--fill-color);\n",
              "    }\n",
              "    60% {\n",
              "      border-color: transparent;\n",
              "      border-right-color: var(--fill-color);\n",
              "    }\n",
              "    80% {\n",
              "      border-color: transparent;\n",
              "      border-right-color: var(--fill-color);\n",
              "      border-bottom-color: var(--fill-color);\n",
              "    }\n",
              "    90% {\n",
              "      border-color: transparent;\n",
              "      border-bottom-color: var(--fill-color);\n",
              "    }\n",
              "  }\n",
              "</style>\n",
              "\n",
              "      <script>\n",
              "        async function quickchart(key) {\n",
              "          const quickchartButtonEl =\n",
              "            document.querySelector('#' + key + ' button');\n",
              "          quickchartButtonEl.disabled = true;  // To prevent multiple clicks.\n",
              "          quickchartButtonEl.classList.add('colab-df-spinner');\n",
              "          try {\n",
              "            const charts = await google.colab.kernel.invokeFunction(\n",
              "                'suggestCharts', [key], {});\n",
              "          } catch (error) {\n",
              "            console.error('Error during call to suggestCharts:', error);\n",
              "          }\n",
              "          quickchartButtonEl.classList.remove('colab-df-spinner');\n",
              "          quickchartButtonEl.classList.add('colab-df-quickchart-complete');\n",
              "        }\n",
              "        (() => {\n",
              "          let quickchartButtonEl =\n",
              "            document.querySelector('#df-1db3b49c-078e-4988-9721-8709985d6ae3 button');\n",
              "          quickchartButtonEl.style.display =\n",
              "            google.colab.kernel.accessAllowed ? 'block' : 'none';\n",
              "        })();\n",
              "      </script>\n",
              "    </div>\n",
              "\n",
              "    </div>\n",
              "  </div>\n"
            ],
            "application/vnd.google.colaboratory.intrinsic+json": {
              "type": "dataframe",
              "variable_name": "df",
              "summary": "{\n  \"name\": \"df\",\n  \"rows\": 83448,\n  \"fields\": [\n    {\n      \"column\": \"label\",\n      \"properties\": {\n        \"dtype\": \"number\",\n        \"std\": 0,\n        \"min\": 0,\n        \"max\": 1,\n        \"num_unique_values\": 2,\n        \"samples\": [\n          0,\n          1\n        ],\n        \"semantic_type\": \"\",\n        \"description\": \"\"\n      }\n    },\n    {\n      \"column\": \"text\",\n      \"properties\": {\n        \"dtype\": \"string\",\n        \"num_unique_values\": 83446,\n        \"samples\": [\n          \"so hard that he can't find time to write to his friends escapenumberf take good care of him aescapenumber aescapenumber they also threatened to destroy fire away then since you are up commanded frank tell him without words so hard that he can't find time to write to his friends escapenumberf take good care of him so hard that he can't find time to write to his friends escapenumberf take good care of him bat's word was law in some things so molly had to submit and took boo away bow aescapenumber aescapenumberas if he had outgrown them and wanted something manlier he took to the hated as if he had outgrown them and wanted something manlier he took to the hated aescapenumber aescapenumberdown workwomen but wishes us to pay them well and economize in some other the house if you feel sociable and your evenings are always free come to me him near her and flapped her fan vigorously whenever he was in sight which with a bucket of water are not pleased for charlie is too presuming and you do need someone to help instantly laid away for repairs and its disappointed maker devoted his energies to helping aescapenumber aescapenumberhead wisely listening to my moral remarks mrs laurence and laurie paused for amy's aescapenumber escapelong how does she behave escapenumberf asked phebe longing for news but too grateful ants when their hill is disturbed of course half a dozen amiable souls posted to have you get thin and pale you know peggy was a jolly lass how beautiful it is cried fanny the drawer took up the little gray book which was her pride thinking christie when her hostess returned and found her warmed refreshed aescapenumber aescapenumber don't then emil who had got his breath by this time gave aescapenumber aescapenumberthen giving a great spring he shot through the air and landed safely anguish as she cried was himself again but it was evident that his sufferings were not smile and agile motion of every limb old ben carried the bag in one soon to tell her all about it you are your active life has done much in some ways to make a man warming and fill the kettle i'll see to the boy commanded mrs aescapenumber aescapenumberat work the sewing room was quite irresistible and he made himself aescapenumber aescapenumbereye showed that his love trials did not quite blind him to the comic aunt looked sober at first but he was so cool about it she couldn't from heart disease and the slightest excitement might kill us if pat while he curried lita till her coat shone like satin then drove is absent template better for it though the memory of it is still bitter and the cross aescapenumber aescapenumber i find don't be a with an unsparing hand institution had not yet made its rules as fixed as the laws of the medes aescapenumber aescapenumberuncle henry smiled and cuddled his little niece\",\n          \"bull market report lescapenumberkup adovcurrent escapenumber escapenumber day target price escapenumber escapelong steadily climb for the top this sym is gaining momentum adov have released very hot news check this out theorize and call to your brocker right now \"\n        ],\n        \"semantic_type\": \"\",\n        \"description\": \"\"\n      }\n    }\n  ]\n}"
            }
          },
          "metadata": {},
          "execution_count": 7
        }
      ]
    },
    {
      "cell_type": "code",
      "source": [
        "# Replace 'text' and 'label'\n",
        "TEXT_COL = 'text'\n",
        "LABEL_COL = 'label'"
      ],
      "metadata": {
        "id": "P0FcP53nS0N3"
      },
      "execution_count": null,
      "outputs": []
    },
    {
      "cell_type": "code",
      "source": [
        "# Basic sanity checks\n",
        "print('\\nMissing values per column:\\n', df.isnull().sum())\n",
        "print('\\nLabel distribution:')\n",
        "print(df[LABEL_COL].value_counts(dropna=False))"
      ],
      "metadata": {
        "colab": {
          "base_uri": "https://localhost:8080/"
        },
        "id": "AldeO4J6S8ja",
        "outputId": "36f47fdf-f395-4578-a63f-67ec6c09dbb0"
      },
      "execution_count": null,
      "outputs": [
        {
          "output_type": "stream",
          "name": "stdout",
          "text": [
            "\n",
            "Missing values per column:\n",
            " label    0\n",
            "text     0\n",
            "dtype: int64\n",
            "\n",
            "Label distribution:\n",
            "label\n",
            "1    43910\n",
            "0    39538\n",
            "Name: count, dtype: int64\n"
          ]
        }
      ]
    },
    {
      "cell_type": "markdown",
      "source": [
        "# 3. Exploratory Look at Raw Text"
      ],
      "metadata": {
        "id": "PLxtaDxKSXi9"
      }
    },
    {
      "cell_type": "code",
      "source": [
        "# Show a few examples of raw emails for each class\n",
        "print('\\n  Sample HAM (label=0): ')\n",
        "print(df[df[LABEL_COL]==0].sample(3)[TEXT_COL].tolist())\n",
        "print('\\n  Sample SPAM (label=1):')\n",
        "print(df[df[LABEL_COL]==1].sample(3)[TEXT_COL].tolist())"
      ],
      "metadata": {
        "colab": {
          "base_uri": "https://localhost:8080/"
        },
        "id": "8QbwqlP4SdlH",
        "outputId": "ce42835a-d4a4-4d23-f3eb-bfb91c2f00d7"
      },
      "execution_count": null,
      "outputs": [
        {
          "output_type": "stream",
          "name": "stdout",
          "text": [
            "\n",
            "  Sample HAM (label=0): \n",
            "['please see the attached draft of an open season posting for a potential tw\\nexpansion . please provide comments to me by friday , october 27 th .\\nthanks !\\nlindy', \"on thursday escapenumber may escapenumber escapenumber escapenumber escapenumber mike mattie wrote quick patch to use the mem sys free wrapper instead of using the platform's free directly i only see an openpgp signature attachment can you respond with the patch attached again or inline i suppose if it's a small change i could make it directly too c\", \"johan faux writes thanks for your reply experimenting a little further i was able to learn a bit more and find what is the real problem of mine what the real question is i could create my sescapenumber extended class by adding these two lines in my namespace file importclassesfrom matrix matrix importclassesfrom matrix dmatrix you can also do importclassesfrom matrix matrix dmatrix and then creating my new class in another r file library matrix i would not call library for such a case if you are importing library in your package's namespace then you probably want the following in your description file depends matrix methods imports matrix yes there is a lot of duplication in how things are specified setclass mymatclass representation dmatrix myslot numeric which creates the new sescapenumber class when my package is loaded the problem is that i would like to create the class inside a function of mine escapelong library matrix setclass mymatclass representation dmatrix myslot numeric again the call to library should not be needed so that at some point after my package is loaded i can do something like if cond escapelong how do you intend to use such a class is the real issue that you don't want to depend on matrix and only use it if it is available now i understand that at this point my package environment is locked so the question become is there any way that i can unlock my package environment create my new sescapenumber class and lock it back or something i think that might be possible but that doesn't make it a good idea please let me know if that makes sense i appreciate your comments it might help to understand what your are trying to achieve overall perhaps there are other approaches also at this point the discussion is more appropriate for r devel perhaps you can move the conversation there best seth seth falcon computational biology fred hutchinson cancer research center http bioconductor org r help stat math ethz ch mailing list https stat ethz ch mailman listinfo r help please do read the posting guide http www r project org posting guide html and provide commented minimal self contained reproducible code \"]\n",
            "\n",
            "  Sample SPAM (label=1):\n",
            "[\"dear\\ndon ' t quickly send in your trash can this message .\\nbecause it can bring you enough of joy\\nthat you wouldn ' t afford to hope from these days .\\nclick\\nhere\\nmiguelina\\ncreole art online\\ninfo @ creoleart . com\\nwww . creoleart . com\\n\", \"your credit history doesn't matter to us if you own real estate and want immediate ready money to spend any way you like or simply wish to lower your current payments by a third or more here is best deal we can offer you today hurry this offer will expire now escapenumber escapenumber debt and even more after further review our lenders have established the lowest monthly payments hurry when the deal is gone it is gone simply fill out this one minute form don't worry about approval your credit history will not disqualify you http swimaunland com \", \"downloadable software ds is a fast paced company with a high quality software you've come to the right place if you need professionally implemented programming solutions for all kinds of usage thousands of happy customers have already benefited from our soft and solutions hundreds are joining this community every day that's a light schedule we deliver superior software products and services that empower our partners and customers to dramatically improve their development deployment integration and management of quality applications all over the world such as blocks and dolls view all products there is a part most popular products where safe microsoft office escapenumber enterprise play is a simple retail price escapenumber escapenumber is an important one said dr kenneth our escapenumber escapenumberone day a week microsoft windows vista business three mornings retail price escapenumber escapenumberthat they're our escapenumber escapenumberacademy adobe acrobat escapenumber escapenumber professional academy committees for retail price escapenumber escapenumber gervasio said her our escapenumber escapenumber social pressures adobe photoshop csescapenumber v escapenumber escapenumber activities can be retail price escapenumber escapenumber a new academy our escapenumber escapenumber the academy's report autodesk autocad escapenumber it can help children retail price escapenumber escapenumber noted pediatrician and author our escapenumber escapenumber has many benefits microsoft office escapenumber professional with business contact manager for outlook on the floor with retail price escapenumber escapenumber just do their our escapenumber escapenumber bugs romping microsoft windows xp professional with spescapenumber academy retail price escapenumber escapenumber the academy's report our escapenumber escapenumber and escapenumber year old macromedia studio escapenumberof pediatrics says retail price escapenumber escapenumber unstructured play our escapenumber escapenumber atlanta georgia microsoft office xp professional is more good retail price escapenumber escapenumber children's schedules our escapenumber escapenumber annual meeting in adobe creative suite escapenumber premium for windows joy that is a cherished retail price escapenumber escapenumber skills our escapenumber escapenumber free play whether view all products of philadelphia pennsylvania \"]\n"
          ]
        }
      ]
    },
    {
      "cell_type": "markdown",
      "source": [
        "# 4. Data Cleaning & Preprocessing"
      ],
      "metadata": {
        "id": "9Q-EWnnjTlbz"
      }
    },
    {
      "cell_type": "code",
      "source": [
        "import html\n",
        "\n",
        "def clean_text(text, remove_stopwords=True, extra_strip=True):\n",
        "  if pd.isnull(text):\n",
        "    return \"\"\n",
        "  # unescape html entities\n",
        "  text = html.unescape(str(text))\n",
        "  # lowercase\n",
        "  text = text.lower()\n",
        "  # remove email addresses and urls (common in spam)\n",
        "  text = re.sub(r'\\S+@\\S+', ' ', text) # emails\n",
        "  text = re.sub(r'http\\S+|www\\.\\S+', ' ', text) # urls\n",
        "  # remove numbers\n",
        "  text = re.sub(r'\\d+', ' ', text)\n",
        "  # remove punctuation\n",
        "  text = text.translate(str.maketrans('', '', string.punctuation))\n",
        "  # remove extra whitespace\n",
        "  if extra_strip:\n",
        "    text = re.sub(r'\\s+', ' ', text).strip()\n",
        "  # remove stopwords\n",
        "  if remove_stopwords:\n",
        "    stops = set(stopwords.words('english'))\n",
        "    tokens = [w for w in text.split() if w not in stops and len(w)>1]\n",
        "    return ' '.join(tokens)\n",
        "  return text"
      ],
      "metadata": {
        "id": "cSdYQz0NUp_P"
      },
      "execution_count": 19,
      "outputs": []
    },
    {
      "cell_type": "code",
      "source": [
        "# Apply cleaning to new column to keep raw text as well\n",
        "CLEAN_COL = 'clean_text'\n",
        "df[CLEAN_COL] = df[TEXT_COL].apply(lambda x: clean_text(x))"
      ],
      "metadata": {
        "id": "40gvy1eeVAfk"
      },
      "execution_count": 20,
      "outputs": []
    },
    {
      "cell_type": "code",
      "source": [
        "# Show before/after for a few rows\n",
        "sample = df[[TEXT_COL, CLEAN_COL, LABEL_COL]].sample(6)\n",
        "sample"
      ],
      "metadata": {
        "colab": {
          "base_uri": "https://localhost:8080/",
          "height": 237
        },
        "id": "9hIT7MLGNap_",
        "outputId": "6343c6ac-c6a2-45a5-ddfe-f56b4413d115"
      },
      "execution_count": 21,
      "outputs": [
        {
          "output_type": "execute_result",
          "data": {
            "text/plain": [
              "                                                    text  \\\n",
              "83338  suraj please don't send me copies of messages ...   \n",
              "61191  the alert is on symescapenumberol cdyvcurr pri...   \n",
              "60175  john ,\\nas discussed , we propose a 3 % adjust...   \n",
              "79772  satcon technology corporation satcon joins gre...   \n",
              "13458  ( see attached file : hplno 201 . xls )\\n- hpl...   \n",
              "79239  hey ,\\ni just heard\\nof this new drg called il...   \n",
              "\n",
              "                                              clean_text  label  \n",
              "83338  suraj please dont send copies messages mailing...      0  \n",
              "61191  alert symescapenumberol cdyvcurr price escapen...      1  \n",
              "60175  john discussed propose adjustment base salarie...      0  \n",
              "79772  satcon technology corporation satcon joins gre...      0  \n",
              "13458              see attached file hplno xls hplno xls      0  \n",
              "79239  hey heard new drg called ilis thought might in...      1  "
            ],
            "text/html": [
              "\n",
              "  <div id=\"df-0beebe31-5026-4b52-a371-7b2998679a40\" class=\"colab-df-container\">\n",
              "    <div>\n",
              "<style scoped>\n",
              "    .dataframe tbody tr th:only-of-type {\n",
              "        vertical-align: middle;\n",
              "    }\n",
              "\n",
              "    .dataframe tbody tr th {\n",
              "        vertical-align: top;\n",
              "    }\n",
              "\n",
              "    .dataframe thead th {\n",
              "        text-align: right;\n",
              "    }\n",
              "</style>\n",
              "<table border=\"1\" class=\"dataframe\">\n",
              "  <thead>\n",
              "    <tr style=\"text-align: right;\">\n",
              "      <th></th>\n",
              "      <th>text</th>\n",
              "      <th>clean_text</th>\n",
              "      <th>label</th>\n",
              "    </tr>\n",
              "  </thead>\n",
              "  <tbody>\n",
              "    <tr>\n",
              "      <th>83338</th>\n",
              "      <td>suraj please don't send me copies of messages ...</td>\n",
              "      <td>suraj please dont send copies messages mailing...</td>\n",
              "      <td>0</td>\n",
              "    </tr>\n",
              "    <tr>\n",
              "      <th>61191</th>\n",
              "      <td>the alert is on symescapenumberol cdyvcurr pri...</td>\n",
              "      <td>alert symescapenumberol cdyvcurr price escapen...</td>\n",
              "      <td>1</td>\n",
              "    </tr>\n",
              "    <tr>\n",
              "      <th>60175</th>\n",
              "      <td>john ,\\nas discussed , we propose a 3 % adjust...</td>\n",
              "      <td>john discussed propose adjustment base salarie...</td>\n",
              "      <td>0</td>\n",
              "    </tr>\n",
              "    <tr>\n",
              "      <th>79772</th>\n",
              "      <td>satcon technology corporation satcon joins gre...</td>\n",
              "      <td>satcon technology corporation satcon joins gre...</td>\n",
              "      <td>0</td>\n",
              "    </tr>\n",
              "    <tr>\n",
              "      <th>13458</th>\n",
              "      <td>( see attached file : hplno 201 . xls )\\n- hpl...</td>\n",
              "      <td>see attached file hplno xls hplno xls</td>\n",
              "      <td>0</td>\n",
              "    </tr>\n",
              "    <tr>\n",
              "      <th>79239</th>\n",
              "      <td>hey ,\\ni just heard\\nof this new drg called il...</td>\n",
              "      <td>hey heard new drg called ilis thought might in...</td>\n",
              "      <td>1</td>\n",
              "    </tr>\n",
              "  </tbody>\n",
              "</table>\n",
              "</div>\n",
              "    <div class=\"colab-df-buttons\">\n",
              "\n",
              "  <div class=\"colab-df-container\">\n",
              "    <button class=\"colab-df-convert\" onclick=\"convertToInteractive('df-0beebe31-5026-4b52-a371-7b2998679a40')\"\n",
              "            title=\"Convert this dataframe to an interactive table.\"\n",
              "            style=\"display:none;\">\n",
              "\n",
              "  <svg xmlns=\"http://www.w3.org/2000/svg\" height=\"24px\" viewBox=\"0 -960 960 960\">\n",
              "    <path d=\"M120-120v-720h720v720H120Zm60-500h600v-160H180v160Zm220 220h160v-160H400v160Zm0 220h160v-160H400v160ZM180-400h160v-160H180v160Zm440 0h160v-160H620v160ZM180-180h160v-160H180v160Zm440 0h160v-160H620v160Z\"/>\n",
              "  </svg>\n",
              "    </button>\n",
              "\n",
              "  <style>\n",
              "    .colab-df-container {\n",
              "      display:flex;\n",
              "      gap: 12px;\n",
              "    }\n",
              "\n",
              "    .colab-df-convert {\n",
              "      background-color: #E8F0FE;\n",
              "      border: none;\n",
              "      border-radius: 50%;\n",
              "      cursor: pointer;\n",
              "      display: none;\n",
              "      fill: #1967D2;\n",
              "      height: 32px;\n",
              "      padding: 0 0 0 0;\n",
              "      width: 32px;\n",
              "    }\n",
              "\n",
              "    .colab-df-convert:hover {\n",
              "      background-color: #E2EBFA;\n",
              "      box-shadow: 0px 1px 2px rgba(60, 64, 67, 0.3), 0px 1px 3px 1px rgba(60, 64, 67, 0.15);\n",
              "      fill: #174EA6;\n",
              "    }\n",
              "\n",
              "    .colab-df-buttons div {\n",
              "      margin-bottom: 4px;\n",
              "    }\n",
              "\n",
              "    [theme=dark] .colab-df-convert {\n",
              "      background-color: #3B4455;\n",
              "      fill: #D2E3FC;\n",
              "    }\n",
              "\n",
              "    [theme=dark] .colab-df-convert:hover {\n",
              "      background-color: #434B5C;\n",
              "      box-shadow: 0px 1px 3px 1px rgba(0, 0, 0, 0.15);\n",
              "      filter: drop-shadow(0px 1px 2px rgba(0, 0, 0, 0.3));\n",
              "      fill: #FFFFFF;\n",
              "    }\n",
              "  </style>\n",
              "\n",
              "    <script>\n",
              "      const buttonEl =\n",
              "        document.querySelector('#df-0beebe31-5026-4b52-a371-7b2998679a40 button.colab-df-convert');\n",
              "      buttonEl.style.display =\n",
              "        google.colab.kernel.accessAllowed ? 'block' : 'none';\n",
              "\n",
              "      async function convertToInteractive(key) {\n",
              "        const element = document.querySelector('#df-0beebe31-5026-4b52-a371-7b2998679a40');\n",
              "        const dataTable =\n",
              "          await google.colab.kernel.invokeFunction('convertToInteractive',\n",
              "                                                    [key], {});\n",
              "        if (!dataTable) return;\n",
              "\n",
              "        const docLinkHtml = 'Like what you see? Visit the ' +\n",
              "          '<a target=\"_blank\" href=https://colab.research.google.com/notebooks/data_table.ipynb>data table notebook</a>'\n",
              "          + ' to learn more about interactive tables.';\n",
              "        element.innerHTML = '';\n",
              "        dataTable['output_type'] = 'display_data';\n",
              "        await google.colab.output.renderOutput(dataTable, element);\n",
              "        const docLink = document.createElement('div');\n",
              "        docLink.innerHTML = docLinkHtml;\n",
              "        element.appendChild(docLink);\n",
              "      }\n",
              "    </script>\n",
              "  </div>\n",
              "\n",
              "\n",
              "    <div id=\"df-0d7e1bdc-90ea-4f14-a485-ea343cad567f\">\n",
              "      <button class=\"colab-df-quickchart\" onclick=\"quickchart('df-0d7e1bdc-90ea-4f14-a485-ea343cad567f')\"\n",
              "                title=\"Suggest charts\"\n",
              "                style=\"display:none;\">\n",
              "\n",
              "<svg xmlns=\"http://www.w3.org/2000/svg\" height=\"24px\"viewBox=\"0 0 24 24\"\n",
              "     width=\"24px\">\n",
              "    <g>\n",
              "        <path d=\"M19 3H5c-1.1 0-2 .9-2 2v14c0 1.1.9 2 2 2h14c1.1 0 2-.9 2-2V5c0-1.1-.9-2-2-2zM9 17H7v-7h2v7zm4 0h-2V7h2v10zm4 0h-2v-4h2v4z\"/>\n",
              "    </g>\n",
              "</svg>\n",
              "      </button>\n",
              "\n",
              "<style>\n",
              "  .colab-df-quickchart {\n",
              "      --bg-color: #E8F0FE;\n",
              "      --fill-color: #1967D2;\n",
              "      --hover-bg-color: #E2EBFA;\n",
              "      --hover-fill-color: #174EA6;\n",
              "      --disabled-fill-color: #AAA;\n",
              "      --disabled-bg-color: #DDD;\n",
              "  }\n",
              "\n",
              "  [theme=dark] .colab-df-quickchart {\n",
              "      --bg-color: #3B4455;\n",
              "      --fill-color: #D2E3FC;\n",
              "      --hover-bg-color: #434B5C;\n",
              "      --hover-fill-color: #FFFFFF;\n",
              "      --disabled-bg-color: #3B4455;\n",
              "      --disabled-fill-color: #666;\n",
              "  }\n",
              "\n",
              "  .colab-df-quickchart {\n",
              "    background-color: var(--bg-color);\n",
              "    border: none;\n",
              "    border-radius: 50%;\n",
              "    cursor: pointer;\n",
              "    display: none;\n",
              "    fill: var(--fill-color);\n",
              "    height: 32px;\n",
              "    padding: 0;\n",
              "    width: 32px;\n",
              "  }\n",
              "\n",
              "  .colab-df-quickchart:hover {\n",
              "    background-color: var(--hover-bg-color);\n",
              "    box-shadow: 0 1px 2px rgba(60, 64, 67, 0.3), 0 1px 3px 1px rgba(60, 64, 67, 0.15);\n",
              "    fill: var(--button-hover-fill-color);\n",
              "  }\n",
              "\n",
              "  .colab-df-quickchart-complete:disabled,\n",
              "  .colab-df-quickchart-complete:disabled:hover {\n",
              "    background-color: var(--disabled-bg-color);\n",
              "    fill: var(--disabled-fill-color);\n",
              "    box-shadow: none;\n",
              "  }\n",
              "\n",
              "  .colab-df-spinner {\n",
              "    border: 2px solid var(--fill-color);\n",
              "    border-color: transparent;\n",
              "    border-bottom-color: var(--fill-color);\n",
              "    animation:\n",
              "      spin 1s steps(1) infinite;\n",
              "  }\n",
              "\n",
              "  @keyframes spin {\n",
              "    0% {\n",
              "      border-color: transparent;\n",
              "      border-bottom-color: var(--fill-color);\n",
              "      border-left-color: var(--fill-color);\n",
              "    }\n",
              "    20% {\n",
              "      border-color: transparent;\n",
              "      border-left-color: var(--fill-color);\n",
              "      border-top-color: var(--fill-color);\n",
              "    }\n",
              "    30% {\n",
              "      border-color: transparent;\n",
              "      border-left-color: var(--fill-color);\n",
              "      border-top-color: var(--fill-color);\n",
              "      border-right-color: var(--fill-color);\n",
              "    }\n",
              "    40% {\n",
              "      border-color: transparent;\n",
              "      border-right-color: var(--fill-color);\n",
              "      border-top-color: var(--fill-color);\n",
              "    }\n",
              "    60% {\n",
              "      border-color: transparent;\n",
              "      border-right-color: var(--fill-color);\n",
              "    }\n",
              "    80% {\n",
              "      border-color: transparent;\n",
              "      border-right-color: var(--fill-color);\n",
              "      border-bottom-color: var(--fill-color);\n",
              "    }\n",
              "    90% {\n",
              "      border-color: transparent;\n",
              "      border-bottom-color: var(--fill-color);\n",
              "    }\n",
              "  }\n",
              "</style>\n",
              "\n",
              "      <script>\n",
              "        async function quickchart(key) {\n",
              "          const quickchartButtonEl =\n",
              "            document.querySelector('#' + key + ' button');\n",
              "          quickchartButtonEl.disabled = true;  // To prevent multiple clicks.\n",
              "          quickchartButtonEl.classList.add('colab-df-spinner');\n",
              "          try {\n",
              "            const charts = await google.colab.kernel.invokeFunction(\n",
              "                'suggestCharts', [key], {});\n",
              "          } catch (error) {\n",
              "            console.error('Error during call to suggestCharts:', error);\n",
              "          }\n",
              "          quickchartButtonEl.classList.remove('colab-df-spinner');\n",
              "          quickchartButtonEl.classList.add('colab-df-quickchart-complete');\n",
              "        }\n",
              "        (() => {\n",
              "          let quickchartButtonEl =\n",
              "            document.querySelector('#df-0d7e1bdc-90ea-4f14-a485-ea343cad567f button');\n",
              "          quickchartButtonEl.style.display =\n",
              "            google.colab.kernel.accessAllowed ? 'block' : 'none';\n",
              "        })();\n",
              "      </script>\n",
              "    </div>\n",
              "\n",
              "  <div id=\"id_21ddfba3-996a-4a29-8b24-a9d3d3c2b0b6\">\n",
              "    <style>\n",
              "      .colab-df-generate {\n",
              "        background-color: #E8F0FE;\n",
              "        border: none;\n",
              "        border-radius: 50%;\n",
              "        cursor: pointer;\n",
              "        display: none;\n",
              "        fill: #1967D2;\n",
              "        height: 32px;\n",
              "        padding: 0 0 0 0;\n",
              "        width: 32px;\n",
              "      }\n",
              "\n",
              "      .colab-df-generate:hover {\n",
              "        background-color: #E2EBFA;\n",
              "        box-shadow: 0px 1px 2px rgba(60, 64, 67, 0.3), 0px 1px 3px 1px rgba(60, 64, 67, 0.15);\n",
              "        fill: #174EA6;\n",
              "      }\n",
              "\n",
              "      [theme=dark] .colab-df-generate {\n",
              "        background-color: #3B4455;\n",
              "        fill: #D2E3FC;\n",
              "      }\n",
              "\n",
              "      [theme=dark] .colab-df-generate:hover {\n",
              "        background-color: #434B5C;\n",
              "        box-shadow: 0px 1px 3px 1px rgba(0, 0, 0, 0.15);\n",
              "        filter: drop-shadow(0px 1px 2px rgba(0, 0, 0, 0.3));\n",
              "        fill: #FFFFFF;\n",
              "      }\n",
              "    </style>\n",
              "    <button class=\"colab-df-generate\" onclick=\"generateWithVariable('sample')\"\n",
              "            title=\"Generate code using this dataframe.\"\n",
              "            style=\"display:none;\">\n",
              "\n",
              "  <svg xmlns=\"http://www.w3.org/2000/svg\" height=\"24px\"viewBox=\"0 0 24 24\"\n",
              "       width=\"24px\">\n",
              "    <path d=\"M7,19H8.4L18.45,9,17,7.55,7,17.6ZM5,21V16.75L18.45,3.32a2,2,0,0,1,2.83,0l1.4,1.43a1.91,1.91,0,0,1,.58,1.4,1.91,1.91,0,0,1-.58,1.4L9.25,21ZM18.45,9,17,7.55Zm-12,3A5.31,5.31,0,0,0,4.9,8.1,5.31,5.31,0,0,0,1,6.5,5.31,5.31,0,0,0,4.9,4.9,5.31,5.31,0,0,0,6.5,1,5.31,5.31,0,0,0,8.1,4.9,5.31,5.31,0,0,0,12,6.5,5.46,5.46,0,0,0,6.5,12Z\"/>\n",
              "  </svg>\n",
              "    </button>\n",
              "    <script>\n",
              "      (() => {\n",
              "      const buttonEl =\n",
              "        document.querySelector('#id_21ddfba3-996a-4a29-8b24-a9d3d3c2b0b6 button.colab-df-generate');\n",
              "      buttonEl.style.display =\n",
              "        google.colab.kernel.accessAllowed ? 'block' : 'none';\n",
              "\n",
              "      buttonEl.onclick = () => {\n",
              "        google.colab.notebook.generateWithVariable('sample');\n",
              "      }\n",
              "      })();\n",
              "    </script>\n",
              "  </div>\n",
              "\n",
              "    </div>\n",
              "  </div>\n"
            ],
            "application/vnd.google.colaboratory.intrinsic+json": {
              "type": "dataframe",
              "variable_name": "sample",
              "summary": "{\n  \"name\": \"sample\",\n  \"rows\": 6,\n  \"fields\": [\n    {\n      \"column\": \"text\",\n      \"properties\": {\n        \"dtype\": \"string\",\n        \"num_unique_values\": 6,\n        \"samples\": [\n          \"suraj please don't send me copies of messages to the mailing list suraj n kurapati writes ben finney wrote the set of permissions you receive is the intersection of the permissions granted by all licenses to the work the set of restrictions you must meet is the sum of the restrictions required by all licenses to the work the above rules pertain specifically to distribution correct they pertain to any action reserved to the monopoly holder under the applicable laws i ask because the first rule does not seem to apply when you are extracting a contained item from a container each item is only governed by its respective license it applies in that the licenses that apply to the work in question in your example the piece extracted need to be satisfied thus the licenses of all other items are ignored and there is no intersection of permissions to be considered so long as your act of extraction isn't one that is reserved to the rights holder yes \\\\\\\\ what you have become is the price you paid to get what you \\\\\\\\ used to want mignon mclaughlin o ben finney to unsubscribe email to debian legal request lists debian org with a subject of unsubscribe trouble contact listmaster lists debian org\",\n          \"the alert is on symescapenumberol cdyvcurr price escapenumber escapenumber escapenumber day target price escapenumber escapenumberaction aggresive buy hold escapenumber profit guaranted it's progressive company check the news of cdyv ktwarwic contact broker \",\n          \"hey ,\\ni just heard\\nof this new drg called ilis and i thought you might\\nbe interested in it . clis is the new rval to\\nvgra and is better\\nknown as spr vagr or\\ndubbed the weeknd\\nviagr by the prss .\\ni just found\\na place nlne that has the gnerc version for\\na lot chper than getting it from a us phrmcy .\\nno prscrptions needed or ncessry .\\nbear\\nall ordrs backd by our 100 % ,\\n30 dy , mony bak guarnte !\\nshppd\\nworldwid\\ndiscretly .\\nyour\\neasy - to - use solution is here\\nno\\nfurther emls plse\\nhttp : / / afteriwokeaabb . biz\\n_ word . fibration , pitt\\nedematous , biochemic . furman . lorelei , atmospheric hexagonal , roar\\n. frost . aloof , concise agglomerate , nate . deception . diopter 7\\n, childbear 9 betray , firework . fetus . railway , nuclei\\nisotherm , fluke . cozy . oak , conner pathology , iconoclasm\\n. faint . bamberger , dragon hoop , judd . germicidal . harvestman\\n, poetic declaim , origin . accreditate . bilingual , bothersome impediment\\n, enfant . demagogue . inexpert , heretic buttermilk , career . possessor\\n. ithaca , bittersweet cornelia , coco . draftee . befit , cholinesterase\\nappeasable , laminar . douse . counterargument , brenner excise , secondary\\n. elmhurst . caught , champion assign , finger . blacken . from\\n, pyrex deliquescent , ferroelectric . candelabra . blowback , coxcomb pastime\\n, carbuncle . briton . abet , carfare goldenseal , gooseberry . drawn\\n. gullible , multipliable 4 hackneyed , feline . maturate . platypus\\n, leopold condominium , seaweed . contributor . qed , chaperon shrugging\\n, lateral . baseboard . quadrangular , englishman beckon , oman . dignity\\n. induce , bypath oxalate , ala . blab . lactate , hays\\ngenre , hero . cheney . phenotype , abetting clamp , equidistant\\n. genuine . asocial , avocet arty , marc . evangelic . bolshevist\\n, deem ferric , ideal . calfskin . anthropomorphic , bravery civilian\\n, scrutiny . polk . hereby , senile decimate , ingersoll . danube\\n. datsun , bufflehead demerit , icebox . benefactor . infighting , chapman\\nendogenous , conjectural . colander . ganymede , nuzzle decease , exhort\\n. pauper . phage , awkward ideal , note . gingham . obtain\\n, firepower\\n\"\n        ],\n        \"semantic_type\": \"\",\n        \"description\": \"\"\n      }\n    },\n    {\n      \"column\": \"clean_text\",\n      \"properties\": {\n        \"dtype\": \"string\",\n        \"num_unique_values\": 6,\n        \"samples\": [\n          \"suraj please dont send copies messages mailing list suraj kurapati writes ben finney wrote set permissions receive intersection permissions granted licenses work set restrictions must meet sum restrictions required licenses work rules pertain specifically distribution correct pertain action reserved monopoly holder applicable laws ask first rule seem apply extracting contained item container item governed respective license applies licenses apply work question example piece extracted need satisfied thus licenses items ignored intersection permissions considered long act extraction isnt one reserved rights holder yes become price paid get used want mignon mclaughlin ben finney unsubscribe email debian legal request lists debian org subject unsubscribe trouble contact listmaster lists debian org\",\n          \"alert symescapenumberol cdyvcurr price escapenumber escapenumber escapenumber day target price escapenumber escapenumberaction aggresive buy hold escapenumber profit guaranted progressive company check news cdyv ktwarwic contact broker\",\n          \"hey heard new drg called ilis thought might interested clis new rval vgra better known spr vagr dubbed weeknd viagr prss found place nlne gnerc version lot chper getting us phrmcy prscrptions needed ncessry bear ordrs backd dy mony bak guarnte shppd worldwid discretly easy use solution emls plse http afteriwokeaabb biz word fibration pitt edematous biochemic furman lorelei atmospheric hexagonal roar frost aloof concise agglomerate nate deception diopter childbear betray firework fetus railway nuclei isotherm fluke cozy oak conner pathology iconoclasm faint bamberger dragon hoop judd germicidal harvestman poetic declaim origin accreditate bilingual bothersome impediment enfant demagogue inexpert heretic buttermilk career possessor ithaca bittersweet cornelia coco draftee befit cholinesterase appeasable laminar douse counterargument brenner excise secondary elmhurst caught champion assign finger blacken pyrex deliquescent ferroelectric candelabra blowback coxcomb pastime carbuncle briton abet carfare goldenseal gooseberry drawn gullible multipliable hackneyed feline maturate platypus leopold condominium seaweed contributor qed chaperon shrugging lateral baseboard quadrangular englishman beckon oman dignity induce bypath oxalate ala blab lactate hays genre hero cheney phenotype abetting clamp equidistant genuine asocial avocet arty marc evangelic bolshevist deem ferric ideal calfskin anthropomorphic bravery civilian scrutiny polk hereby senile decimate ingersoll danube datsun bufflehead demerit icebox benefactor infighting chapman endogenous conjectural colander ganymede nuzzle decease exhort pauper phage awkward ideal note gingham obtain firepower\"\n        ],\n        \"semantic_type\": \"\",\n        \"description\": \"\"\n      }\n    },\n    {\n      \"column\": \"label\",\n      \"properties\": {\n        \"dtype\": \"number\",\n        \"std\": 0,\n        \"min\": 0,\n        \"max\": 1,\n        \"num_unique_values\": 2,\n        \"samples\": [\n          1,\n          0\n        ],\n        \"semantic_type\": \"\",\n        \"description\": \"\"\n      }\n    }\n  ]\n}"
            }
          },
          "metadata": {},
          "execution_count": 21
        }
      ]
    },
    {
      "cell_type": "markdown",
      "source": [
        "# 5. Visualize Token Lengths & Basic Stats"
      ],
      "metadata": {
        "id": "9Devj30xVb6c"
      }
    },
    {
      "cell_type": "code",
      "source": [
        "# tokens per cleaned message\n",
        "df['token_count'] = df[CLEAN_COL].apply(lambda x: len(str(x).split()))"
      ],
      "metadata": {
        "id": "bthfIYgIVj3L"
      },
      "execution_count": 22,
      "outputs": []
    },
    {
      "cell_type": "code",
      "source": [
        "print(df[['token_count', LABEL_COL]].groupby(LABEL_COL).describe())"
      ],
      "metadata": {
        "colab": {
          "base_uri": "https://localhost:8080/"
        },
        "id": "Ze36he09VuK6",
        "outputId": "652a6293-2c34-4d1a-e520-26cdb428be2b"
      },
      "execution_count": 23,
      "outputs": [
        {
          "output_type": "stream",
          "name": "stdout",
          "text": [
            "      token_count                                                          \n",
            "            count        mean         std  min   25%    50%    75%      max\n",
            "label                                                                      \n",
            "0         39538.0  218.034043  670.857576  0.0  58.0  116.0  222.0  92322.0\n",
            "1         43910.0  121.294967  184.625193  0.0  36.0   67.0  151.0  11827.0\n"
          ]
        }
      ]
    },
    {
      "cell_type": "code",
      "source": [
        "# Show distribution head\n",
        "print('\\nTop 10 longest messages (tokens):')\n",
        "print(df.sort_values('token_count', ascending=False)[[TEXT_COL, CLEAN_COL, 'token_count']].head(5))"
      ],
      "metadata": {
        "colab": {
          "base_uri": "https://localhost:8080/"
        },
        "id": "3lbarqbaVzon",
        "outputId": "2776677c-36d0-4f73-dad3-05ae6e1e8608"
      },
      "execution_count": 24,
      "outputs": [
        {
          "output_type": "stream",
          "name": "stdout",
          "text": [
            "\n",
            "Top 10 longest messages (tokens):\n",
            "                                                    text  \\\n",
            "52108  commit a snapshot of the generated prototype h...   \n",
            "51996  enron : a wake - up call\\nthe wall street jour...   \n",
            "475    rival to buy enron , top energy trader , after...   \n",
            "68692  fall of a power giant : bailout is unlikely if...   \n",
            "63878  at file home jelmer bzr samba old escapenumber...   \n",
            "\n",
            "                                              clean_text  token_count  \n",
            "52108  commit snapshot generated prototype headers so...        92322  \n",
            "51996  enron wake call wall street journal fall power...        20985  \n",
            "475    rival buy enron top energy trader financial fa...        16805  \n",
            "68692  fall power giant bailout unlikely enron goes t...        15381  \n",
            "63878  file home jelmer bzr samba old escapenumber es...        14054  \n"
          ]
        }
      ]
    },
    {
      "cell_type": "code",
      "source": [
        "# Show distribution head\n",
        "print('\\nTop 10 longest messages (tokens):')\n",
        "print(df.sort_values('token_count', ascending=False)[[TEXT_COL, CLEAN_COL, 'token_count']].head(5))"
      ],
      "metadata": {
        "id": "BVTpFPAvV1x6"
      },
      "execution_count": null,
      "outputs": []
    },
    {
      "cell_type": "code",
      "source": [
        "# Optionally drop empty cleaned messages\n",
        "empty_before = (df[CLEAN_COL].str.strip() == '').sum()\n",
        "print('\\nEmpty cleaned messages before drop:', empty_before)\n",
        "\n",
        "\n",
        "df = df[df[CLEAN_COL].str.strip() != ''].reset_index(drop=True)\n",
        "empty_after = (df[CLEAN_COL].str.strip() == '').sum()\n",
        "print('Empty cleaned messages after drop:', empty_after)"
      ],
      "metadata": {
        "colab": {
          "base_uri": "https://localhost:8080/"
        },
        "id": "fSVeqTlNWC39",
        "outputId": "da0c9f0b-8931-42b1-eba8-169112ce8e1b"
      },
      "execution_count": 25,
      "outputs": [
        {
          "output_type": "stream",
          "name": "stdout",
          "text": [
            "\n",
            "Empty cleaned messages before drop: 32\n",
            "Empty cleaned messages after drop: 0\n"
          ]
        }
      ]
    },
    {
      "cell_type": "markdown",
      "source": [
        "# 6. Train / Test Split"
      ],
      "metadata": {
        "id": "46TXYsDeWbRp"
      }
    },
    {
      "cell_type": "code",
      "source": [
        "X = df[CLEAN_COL]\n",
        "y = df[LABEL_COL]"
      ],
      "metadata": {
        "id": "z5NHPf-eVMxA"
      },
      "execution_count": 28,
      "outputs": []
    },
    {
      "cell_type": "code",
      "source": [
        "# stratify to keep label balance\n",
        "X_train, X_test, y_train, y_test = train_test_split(X, y, test_size=0.20, random_state=42, stratify=y)"
      ],
      "metadata": {
        "id": "IjPpZrjIWsiD"
      },
      "execution_count": 29,
      "outputs": []
    },
    {
      "cell_type": "code",
      "source": [
        "print('Train size:', X_train.shape[0])\n",
        "print('Test size :', X_test.shape[0])"
      ],
      "metadata": {
        "colab": {
          "base_uri": "https://localhost:8080/"
        },
        "id": "LfgBhxXUWyEq",
        "outputId": "e42db4a0-6e71-40f7-87d9-10d15f446627"
      },
      "execution_count": 30,
      "outputs": [
        {
          "output_type": "stream",
          "name": "stdout",
          "text": [
            "Train size: 66732\n",
            "Test size : 16684\n"
          ]
        }
      ]
    },
    {
      "cell_type": "code",
      "source": [
        "print('\\nTrain label distribution:\\n', y_train.value_counts(normalize=True))\n",
        "print('\\nTest label distribution:\\n', y_test.value_counts(normalize=True))"
      ],
      "metadata": {
        "colab": {
          "base_uri": "https://localhost:8080/"
        },
        "id": "aLHYFeMhW2Qz",
        "outputId": "ea60e79f-3a5f-4fd3-81e3-3340620e1972"
      },
      "execution_count": 31,
      "outputs": [
        {
          "output_type": "stream",
          "name": "stdout",
          "text": [
            "\n",
            "Train label distribution:\n",
            " label\n",
            "1    0.526104\n",
            "0    0.473896\n",
            "Name: proportion, dtype: float64\n",
            "\n",
            "Test label distribution:\n",
            " label\n",
            "1    0.526133\n",
            "0    0.473867\n",
            "Name: proportion, dtype: float64\n"
          ]
        }
      ]
    },
    {
      "cell_type": "markdown",
      "source": [
        "# 7. Feature Extraction (TF-IDF)"
      ],
      "metadata": {
        "id": "CKx7XLl9XDpM"
      }
    },
    {
      "cell_type": "code",
      "source": [
        "# Vectorizer setup\n",
        "vectorizer = TfidfVectorizer(max_features=5000, ngram_range=(1,2))"
      ],
      "metadata": {
        "id": "gbAHT6xoXC0C"
      },
      "execution_count": 32,
      "outputs": []
    },
    {
      "cell_type": "code",
      "source": [
        "# Fit on training data and transform\n",
        "X_train_tfidf = vectorizer.fit_transform(X_train)\n",
        "X_test_tfidf = vectorizer.transform(X_test)"
      ],
      "metadata": {
        "id": "8h9S01EtXV-g"
      },
      "execution_count": 33,
      "outputs": []
    },
    {
      "cell_type": "code",
      "source": [
        "print('TF-IDF shape — train:', X_train_tfidf.shape)\n",
        "print('TF-IDF shape — test :', X_test_tfidf.shape)"
      ],
      "metadata": {
        "colab": {
          "base_uri": "https://localhost:8080/"
        },
        "id": "qQ84Mv2_XY_G",
        "outputId": "1cacd575-385f-4aa8-da9e-9fcbb4da04c9"
      },
      "execution_count": 34,
      "outputs": [
        {
          "output_type": "stream",
          "name": "stdout",
          "text": [
            "TF-IDF shape — train: (66732, 5000)\n",
            "TF-IDF shape — test : (16684, 5000)\n"
          ]
        }
      ]
    },
    {
      "cell_type": "code",
      "source": [
        "# Show top features learned (first 40)\n",
        "feature_names = vectorizer.get_feature_names_out()\n",
        "print('\\nSample TF-IDF features (first 40):\\n', feature_names[:40])"
      ],
      "metadata": {
        "colab": {
          "base_uri": "https://localhost:8080/"
        },
        "id": "jpW552CFXeF6",
        "outputId": "fa3adfd1-1aba-4039-d30f-cac6eb0db951"
      },
      "execution_count": 35,
      "outputs": [
        {
          "output_type": "stream",
          "name": "stdout",
          "text": [
            "\n",
            "Sample TF-IDF features (first 40):\n",
            " ['aa' 'ab' 'abbott' 'abc' 'ability' 'able' 'absolutely' 'abuse' 'ac'\n",
            " 'ac uk' 'academy' 'accept' 'acceptance' 'accepted' 'access' 'according'\n",
            " 'account' 'accounting' 'accounts' 'acct' 'accuracy' 'accurate'\n",
            " 'accuweather' 'accuweather com' 'achieve' 'acl' 'acquire' 'acquired'\n",
            " 'acquisition' 'acrobat' 'acrobat escapenumber' 'across' 'act'\n",
            " 'act section' 'act statements' 'action' 'actions' 'active' 'activities'\n",
            " 'activity']\n"
          ]
        }
      ]
    },
    {
      "cell_type": "code",
      "source": [
        "# Show TF-IDF example for a single message\n",
        "sample_idx = X_train.index[0]\n",
        "print('\\nOriginal message:\\n', X_train.iloc[0])\n",
        "\n",
        "\n",
        "vec = X_train_tfidf[0].toarray().reshape(-1)\n",
        "nonzero_indices = np.where(vec>0)[0]\n",
        "print('\\nNon-zero TF-IDF features in this message:')\n",
        "for i in nonzero_indices[:30]:\n",
        "  print(feature_names[i], '->', round(vec[i], 4))"
      ],
      "metadata": {
        "colab": {
          "base_uri": "https://localhost:8080/"
        },
        "id": "MhIcRnhfXQP6",
        "outputId": "3a9c73e4-35ba-44b6-b61d-145b53aeabf5"
      },
      "execution_count": 37,
      "outputs": [
        {
          "output_type": "stream",
          "name": "stdout",
          "text": [
            "\n",
            "Original message:\n",
            " «canadianpharmacy» offers wide selection escapenumber generic products choose great level service fast delivery personal approach customer security information absolutely cheap prices visit canadianpharmacy site enjoy new saving options «canadianpharmacy» http colorpath hk\n",
            "\n",
            "Non-zero TF-IDF features in this message:\n",
            "absolutely -> 0.2006\n",
            "approach -> 0.1919\n",
            "canadianpharmacy -> 0.5575\n",
            "cheap -> 0.1932\n",
            "choose -> 0.1682\n",
            "customer -> 0.145\n",
            "delivery -> 0.1638\n",
            "enjoy -> 0.1808\n",
            "escapenumber -> 0.0629\n",
            "fast -> 0.1626\n",
            "generic -> 0.165\n",
            "great -> 0.1326\n",
            "hk -> 0.1491\n",
            "http -> 0.069\n",
            "information -> 0.1125\n",
            "level -> 0.1618\n",
            "new -> 0.0941\n",
            "offers -> 0.1504\n",
            "options -> 0.1636\n",
            "personal -> 0.1702\n",
            "prices -> 0.1392\n",
            "products -> 0.1424\n",
            "saving -> 0.216\n",
            "security -> 0.1614\n",
            "selection -> 0.2001\n",
            "service -> 0.1305\n",
            "site -> 0.1368\n",
            "visit -> 0.1356\n",
            "wide -> 0.1766\n"
          ]
        }
      ]
    },
    {
      "cell_type": "markdown",
      "source": [
        "# 8. Model 1 — Multinomial Naive Bayes"
      ],
      "metadata": {
        "id": "XKKVSSQ5X65u"
      }
    },
    {
      "cell_type": "code",
      "source": [
        "nb = MultinomialNB()"
      ],
      "metadata": {
        "id": "nYuQgEJ0X-n6"
      },
      "execution_count": 46,
      "outputs": []
    },
    {
      "cell_type": "code",
      "source": [
        "nb.fit(X_train_tfidf, y_train)\n",
        "nb_pred = nb.predict(X_test_tfidf)\n",
        "nb_proba = nb.predict_proba(X_test_tfidf)[:,1] # probability of class 1"
      ],
      "metadata": {
        "id": "x09LgG4kYE5o"
      },
      "execution_count": 47,
      "outputs": []
    },
    {
      "cell_type": "code",
      "source": [
        "print('Naive Bayes — Accuracy:', accuracy_score(y_test, nb_pred))\n",
        "print('\\nConfusion Matrix:\\n', confusion_matrix(y_test, nb_pred))\n",
        "print('\\nClassification Report:\\n', classification_report(y_test, nb_pred))\n",
        "print('\\nROC AUC (NB):', roc_auc_score(y_test, nb_proba))"
      ],
      "metadata": {
        "colab": {
          "base_uri": "https://localhost:8080/"
        },
        "id": "xY35epf8YIsu",
        "outputId": "dd4082dc-29bd-4276-a4a0-d8ba98befdfd"
      },
      "execution_count": 48,
      "outputs": [
        {
          "output_type": "stream",
          "name": "stdout",
          "text": [
            "Naive Bayes — Accuracy: 0.9665547830256533\n",
            "\n",
            "Confusion Matrix:\n",
            " [[7613  293]\n",
            " [ 265 8513]]\n",
            "\n",
            "Classification Report:\n",
            "               precision    recall  f1-score   support\n",
            "\n",
            "           0       0.97      0.96      0.96      7906\n",
            "           1       0.97      0.97      0.97      8778\n",
            "\n",
            "    accuracy                           0.97     16684\n",
            "   macro avg       0.97      0.97      0.97     16684\n",
            "weighted avg       0.97      0.97      0.97     16684\n",
            "\n",
            "\n",
            "ROC AUC (NB): 0.9933466566054074\n"
          ]
        }
      ]
    },
    {
      "cell_type": "markdown",
      "source": [
        "# 9. Model 2 — Logistic Regression"
      ],
      "metadata": {
        "id": "uqIw-YuyYe9M"
      }
    },
    {
      "cell_type": "code",
      "source": [
        "lr = LogisticRegression(max_iter=2000)"
      ],
      "metadata": {
        "id": "w1i2xG7BYX1Z"
      },
      "execution_count": 49,
      "outputs": []
    },
    {
      "cell_type": "code",
      "source": [
        "lr.fit(X_train_tfidf, y_train)\n",
        "lr_pred = lr.predict(X_test_tfidf)\n",
        "lr_proba = lr.predict_proba(X_test_tfidf)[:,1]"
      ],
      "metadata": {
        "id": "4feUDUqiYnes"
      },
      "execution_count": 50,
      "outputs": []
    },
    {
      "cell_type": "code",
      "source": [
        "print('Logistic Regression — Accuracy:', accuracy_score(y_test, lr_pred))\n",
        "print('\\nConfusion Matrix:\\n', confusion_matrix(y_test, lr_pred))\n",
        "print('\\nClassification Report:\\n', classification_report(y_test, lr_pred))\n",
        "print('\\nROC AUC (LR):', roc_auc_score(y_test, lr_proba))"
      ],
      "metadata": {
        "colab": {
          "base_uri": "https://localhost:8080/"
        },
        "id": "DJqoRUgwY96H",
        "outputId": "946190b1-57d5-4bd3-91cc-42dab52b2ace"
      },
      "execution_count": 51,
      "outputs": [
        {
          "output_type": "stream",
          "name": "stdout",
          "text": [
            "Logistic Regression — Accuracy: 0.9823183888755694\n",
            "\n",
            "Confusion Matrix:\n",
            " [[7703  203]\n",
            " [  92 8686]]\n",
            "\n",
            "Classification Report:\n",
            "               precision    recall  f1-score   support\n",
            "\n",
            "           0       0.99      0.97      0.98      7906\n",
            "           1       0.98      0.99      0.98      8778\n",
            "\n",
            "    accuracy                           0.98     16684\n",
            "   macro avg       0.98      0.98      0.98     16684\n",
            "weighted avg       0.98      0.98      0.98     16684\n",
            "\n",
            "\n",
            "ROC AUC (LR): 0.9972969804060782\n"
          ]
        }
      ]
    },
    {
      "cell_type": "markdown",
      "source": [
        "# 10. Compare Models"
      ],
      "metadata": {
        "id": "sQw_IIw2ZJhR"
      }
    },
    {
      "cell_type": "code",
      "source": [
        "from sklearn.metrics import precision_recall_fscore_support\n",
        "\n",
        "\n",
        "results = []\n",
        "for name, pred, proba in [\n",
        "('Naive Bayes', nb_pred, nb_proba),\n",
        "('Logistic Regression', lr_pred, lr_proba)\n",
        "]:\n",
        "  acc = accuracy_score(y_test, pred)\n",
        "  cm = confusion_matrix(y_test, pred)\n",
        "  report = classification_report(y_test, pred, output_dict=True)\n",
        "  roc = roc_auc_score(y_test, proba)\n",
        "  results.append({'model': name, 'accuracy': acc, 'roc_auc': roc, 'precision_spam': report['1']['precision'], 'recall_spam': report['1']['recall'], 'f1_spam': report['1']['f1-score']})\n",
        "\n",
        "\n",
        "pd.DataFrame(results)"
      ],
      "metadata": {
        "colab": {
          "base_uri": "https://localhost:8080/",
          "height": 112
        },
        "id": "P-Byvnd3ZMlq",
        "outputId": "dfcb6021-3773-48ff-8657-42f4c05cdb09"
      },
      "execution_count": 53,
      "outputs": [
        {
          "output_type": "execute_result",
          "data": {
            "text/plain": [
              "                 model  accuracy   roc_auc  precision_spam  recall_spam  \\\n",
              "0          Naive Bayes  0.966555  0.993347        0.966727     0.969811   \n",
              "1  Logistic Regression  0.982318  0.997297        0.977163     0.989519   \n",
              "\n",
              "    f1_spam  \n",
              "0  0.968267  \n",
              "1  0.983302  "
            ],
            "text/html": [
              "\n",
              "  <div id=\"df-10c74b12-afeb-457e-ac7c-b66aa81341f4\" class=\"colab-df-container\">\n",
              "    <div>\n",
              "<style scoped>\n",
              "    .dataframe tbody tr th:only-of-type {\n",
              "        vertical-align: middle;\n",
              "    }\n",
              "\n",
              "    .dataframe tbody tr th {\n",
              "        vertical-align: top;\n",
              "    }\n",
              "\n",
              "    .dataframe thead th {\n",
              "        text-align: right;\n",
              "    }\n",
              "</style>\n",
              "<table border=\"1\" class=\"dataframe\">\n",
              "  <thead>\n",
              "    <tr style=\"text-align: right;\">\n",
              "      <th></th>\n",
              "      <th>model</th>\n",
              "      <th>accuracy</th>\n",
              "      <th>roc_auc</th>\n",
              "      <th>precision_spam</th>\n",
              "      <th>recall_spam</th>\n",
              "      <th>f1_spam</th>\n",
              "    </tr>\n",
              "  </thead>\n",
              "  <tbody>\n",
              "    <tr>\n",
              "      <th>0</th>\n",
              "      <td>Naive Bayes</td>\n",
              "      <td>0.966555</td>\n",
              "      <td>0.993347</td>\n",
              "      <td>0.966727</td>\n",
              "      <td>0.969811</td>\n",
              "      <td>0.968267</td>\n",
              "    </tr>\n",
              "    <tr>\n",
              "      <th>1</th>\n",
              "      <td>Logistic Regression</td>\n",
              "      <td>0.982318</td>\n",
              "      <td>0.997297</td>\n",
              "      <td>0.977163</td>\n",
              "      <td>0.989519</td>\n",
              "      <td>0.983302</td>\n",
              "    </tr>\n",
              "  </tbody>\n",
              "</table>\n",
              "</div>\n",
              "    <div class=\"colab-df-buttons\">\n",
              "\n",
              "  <div class=\"colab-df-container\">\n",
              "    <button class=\"colab-df-convert\" onclick=\"convertToInteractive('df-10c74b12-afeb-457e-ac7c-b66aa81341f4')\"\n",
              "            title=\"Convert this dataframe to an interactive table.\"\n",
              "            style=\"display:none;\">\n",
              "\n",
              "  <svg xmlns=\"http://www.w3.org/2000/svg\" height=\"24px\" viewBox=\"0 -960 960 960\">\n",
              "    <path d=\"M120-120v-720h720v720H120Zm60-500h600v-160H180v160Zm220 220h160v-160H400v160Zm0 220h160v-160H400v160ZM180-400h160v-160H180v160Zm440 0h160v-160H620v160ZM180-180h160v-160H180v160Zm440 0h160v-160H620v160Z\"/>\n",
              "  </svg>\n",
              "    </button>\n",
              "\n",
              "  <style>\n",
              "    .colab-df-container {\n",
              "      display:flex;\n",
              "      gap: 12px;\n",
              "    }\n",
              "\n",
              "    .colab-df-convert {\n",
              "      background-color: #E8F0FE;\n",
              "      border: none;\n",
              "      border-radius: 50%;\n",
              "      cursor: pointer;\n",
              "      display: none;\n",
              "      fill: #1967D2;\n",
              "      height: 32px;\n",
              "      padding: 0 0 0 0;\n",
              "      width: 32px;\n",
              "    }\n",
              "\n",
              "    .colab-df-convert:hover {\n",
              "      background-color: #E2EBFA;\n",
              "      box-shadow: 0px 1px 2px rgba(60, 64, 67, 0.3), 0px 1px 3px 1px rgba(60, 64, 67, 0.15);\n",
              "      fill: #174EA6;\n",
              "    }\n",
              "\n",
              "    .colab-df-buttons div {\n",
              "      margin-bottom: 4px;\n",
              "    }\n",
              "\n",
              "    [theme=dark] .colab-df-convert {\n",
              "      background-color: #3B4455;\n",
              "      fill: #D2E3FC;\n",
              "    }\n",
              "\n",
              "    [theme=dark] .colab-df-convert:hover {\n",
              "      background-color: #434B5C;\n",
              "      box-shadow: 0px 1px 3px 1px rgba(0, 0, 0, 0.15);\n",
              "      filter: drop-shadow(0px 1px 2px rgba(0, 0, 0, 0.3));\n",
              "      fill: #FFFFFF;\n",
              "    }\n",
              "  </style>\n",
              "\n",
              "    <script>\n",
              "      const buttonEl =\n",
              "        document.querySelector('#df-10c74b12-afeb-457e-ac7c-b66aa81341f4 button.colab-df-convert');\n",
              "      buttonEl.style.display =\n",
              "        google.colab.kernel.accessAllowed ? 'block' : 'none';\n",
              "\n",
              "      async function convertToInteractive(key) {\n",
              "        const element = document.querySelector('#df-10c74b12-afeb-457e-ac7c-b66aa81341f4');\n",
              "        const dataTable =\n",
              "          await google.colab.kernel.invokeFunction('convertToInteractive',\n",
              "                                                    [key], {});\n",
              "        if (!dataTable) return;\n",
              "\n",
              "        const docLinkHtml = 'Like what you see? Visit the ' +\n",
              "          '<a target=\"_blank\" href=https://colab.research.google.com/notebooks/data_table.ipynb>data table notebook</a>'\n",
              "          + ' to learn more about interactive tables.';\n",
              "        element.innerHTML = '';\n",
              "        dataTable['output_type'] = 'display_data';\n",
              "        await google.colab.output.renderOutput(dataTable, element);\n",
              "        const docLink = document.createElement('div');\n",
              "        docLink.innerHTML = docLinkHtml;\n",
              "        element.appendChild(docLink);\n",
              "      }\n",
              "    </script>\n",
              "  </div>\n",
              "\n",
              "\n",
              "    <div id=\"df-e37fa181-e374-4c4c-b05a-bbba96b4fc0b\">\n",
              "      <button class=\"colab-df-quickchart\" onclick=\"quickchart('df-e37fa181-e374-4c4c-b05a-bbba96b4fc0b')\"\n",
              "                title=\"Suggest charts\"\n",
              "                style=\"display:none;\">\n",
              "\n",
              "<svg xmlns=\"http://www.w3.org/2000/svg\" height=\"24px\"viewBox=\"0 0 24 24\"\n",
              "     width=\"24px\">\n",
              "    <g>\n",
              "        <path d=\"M19 3H5c-1.1 0-2 .9-2 2v14c0 1.1.9 2 2 2h14c1.1 0 2-.9 2-2V5c0-1.1-.9-2-2-2zM9 17H7v-7h2v7zm4 0h-2V7h2v10zm4 0h-2v-4h2v4z\"/>\n",
              "    </g>\n",
              "</svg>\n",
              "      </button>\n",
              "\n",
              "<style>\n",
              "  .colab-df-quickchart {\n",
              "      --bg-color: #E8F0FE;\n",
              "      --fill-color: #1967D2;\n",
              "      --hover-bg-color: #E2EBFA;\n",
              "      --hover-fill-color: #174EA6;\n",
              "      --disabled-fill-color: #AAA;\n",
              "      --disabled-bg-color: #DDD;\n",
              "  }\n",
              "\n",
              "  [theme=dark] .colab-df-quickchart {\n",
              "      --bg-color: #3B4455;\n",
              "      --fill-color: #D2E3FC;\n",
              "      --hover-bg-color: #434B5C;\n",
              "      --hover-fill-color: #FFFFFF;\n",
              "      --disabled-bg-color: #3B4455;\n",
              "      --disabled-fill-color: #666;\n",
              "  }\n",
              "\n",
              "  .colab-df-quickchart {\n",
              "    background-color: var(--bg-color);\n",
              "    border: none;\n",
              "    border-radius: 50%;\n",
              "    cursor: pointer;\n",
              "    display: none;\n",
              "    fill: var(--fill-color);\n",
              "    height: 32px;\n",
              "    padding: 0;\n",
              "    width: 32px;\n",
              "  }\n",
              "\n",
              "  .colab-df-quickchart:hover {\n",
              "    background-color: var(--hover-bg-color);\n",
              "    box-shadow: 0 1px 2px rgba(60, 64, 67, 0.3), 0 1px 3px 1px rgba(60, 64, 67, 0.15);\n",
              "    fill: var(--button-hover-fill-color);\n",
              "  }\n",
              "\n",
              "  .colab-df-quickchart-complete:disabled,\n",
              "  .colab-df-quickchart-complete:disabled:hover {\n",
              "    background-color: var(--disabled-bg-color);\n",
              "    fill: var(--disabled-fill-color);\n",
              "    box-shadow: none;\n",
              "  }\n",
              "\n",
              "  .colab-df-spinner {\n",
              "    border: 2px solid var(--fill-color);\n",
              "    border-color: transparent;\n",
              "    border-bottom-color: var(--fill-color);\n",
              "    animation:\n",
              "      spin 1s steps(1) infinite;\n",
              "  }\n",
              "\n",
              "  @keyframes spin {\n",
              "    0% {\n",
              "      border-color: transparent;\n",
              "      border-bottom-color: var(--fill-color);\n",
              "      border-left-color: var(--fill-color);\n",
              "    }\n",
              "    20% {\n",
              "      border-color: transparent;\n",
              "      border-left-color: var(--fill-color);\n",
              "      border-top-color: var(--fill-color);\n",
              "    }\n",
              "    30% {\n",
              "      border-color: transparent;\n",
              "      border-left-color: var(--fill-color);\n",
              "      border-top-color: var(--fill-color);\n",
              "      border-right-color: var(--fill-color);\n",
              "    }\n",
              "    40% {\n",
              "      border-color: transparent;\n",
              "      border-right-color: var(--fill-color);\n",
              "      border-top-color: var(--fill-color);\n",
              "    }\n",
              "    60% {\n",
              "      border-color: transparent;\n",
              "      border-right-color: var(--fill-color);\n",
              "    }\n",
              "    80% {\n",
              "      border-color: transparent;\n",
              "      border-right-color: var(--fill-color);\n",
              "      border-bottom-color: var(--fill-color);\n",
              "    }\n",
              "    90% {\n",
              "      border-color: transparent;\n",
              "      border-bottom-color: var(--fill-color);\n",
              "    }\n",
              "  }\n",
              "</style>\n",
              "\n",
              "      <script>\n",
              "        async function quickchart(key) {\n",
              "          const quickchartButtonEl =\n",
              "            document.querySelector('#' + key + ' button');\n",
              "          quickchartButtonEl.disabled = true;  // To prevent multiple clicks.\n",
              "          quickchartButtonEl.classList.add('colab-df-spinner');\n",
              "          try {\n",
              "            const charts = await google.colab.kernel.invokeFunction(\n",
              "                'suggestCharts', [key], {});\n",
              "          } catch (error) {\n",
              "            console.error('Error during call to suggestCharts:', error);\n",
              "          }\n",
              "          quickchartButtonEl.classList.remove('colab-df-spinner');\n",
              "          quickchartButtonEl.classList.add('colab-df-quickchart-complete');\n",
              "        }\n",
              "        (() => {\n",
              "          let quickchartButtonEl =\n",
              "            document.querySelector('#df-e37fa181-e374-4c4c-b05a-bbba96b4fc0b button');\n",
              "          quickchartButtonEl.style.display =\n",
              "            google.colab.kernel.accessAllowed ? 'block' : 'none';\n",
              "        })();\n",
              "      </script>\n",
              "    </div>\n",
              "\n",
              "    </div>\n",
              "  </div>\n"
            ],
            "application/vnd.google.colaboratory.intrinsic+json": {
              "type": "dataframe",
              "summary": "{\n  \"name\": \"pd\",\n  \"rows\": 2,\n  \"fields\": [\n    {\n      \"column\": \"model\",\n      \"properties\": {\n        \"dtype\": \"string\",\n        \"num_unique_values\": 2,\n        \"samples\": [\n          \"Logistic Regression\",\n          \"Naive Bayes\"\n        ],\n        \"semantic_type\": \"\",\n        \"description\": \"\"\n      }\n    },\n    {\n      \"column\": \"accuracy\",\n      \"properties\": {\n        \"dtype\": \"number\",\n        \"std\": 0.011146552592427602,\n        \"min\": 0.9665547830256533,\n        \"max\": 0.9823183888755694,\n        \"num_unique_values\": 2,\n        \"samples\": [\n          0.9823183888755694,\n          0.9665547830256533\n        ],\n        \"semantic_type\": \"\",\n        \"description\": \"\"\n      }\n    },\n    {\n      \"column\": \"roc_auc\",\n      \"properties\": {\n        \"dtype\": \"number\",\n        \"std\": 0.0027933007473368884,\n        \"min\": 0.9933466566054074,\n        \"max\": 0.9972969804060782,\n        \"num_unique_values\": 2,\n        \"samples\": [\n          0.9972969804060782,\n          0.9933466566054074\n        ],\n        \"semantic_type\": \"\",\n        \"description\": \"\"\n      }\n    },\n    {\n      \"column\": \"precision_spam\",\n      \"properties\": {\n        \"dtype\": \"number\",\n        \"std\": 0.007379051021513803,\n        \"min\": 0.9667272314331138,\n        \"max\": 0.9771627854651816,\n        \"num_unique_values\": 2,\n        \"samples\": [\n          0.9771627854651816,\n          0.9667272314331138\n        ],\n        \"semantic_type\": \"\",\n        \"description\": \"\"\n      }\n    },\n    {\n      \"column\": \"recall_spam\",\n      \"properties\": {\n        \"dtype\": \"number\",\n        \"std\": 0.013935916284492247,\n        \"min\": 0.9698108908635225,\n        \"max\": 0.9895192526771475,\n        \"num_unique_values\": 2,\n        \"samples\": [\n          0.9895192526771475,\n          0.9698108908635225\n        ],\n        \"semantic_type\": \"\",\n        \"description\": \"\"\n      }\n    },\n    {\n      \"column\": \"f1_spam\",\n      \"properties\": {\n        \"dtype\": \"number\",\n        \"std\": 0.01063177177749479,\n        \"min\": 0.9682666060054596,\n        \"max\": 0.9833022018452482,\n        \"num_unique_values\": 2,\n        \"samples\": [\n          0.9833022018452482,\n          0.9682666060054596\n        ],\n        \"semantic_type\": \"\",\n        \"description\": \"\"\n      }\n    }\n  ]\n}"
            }
          },
          "metadata": {},
          "execution_count": 53
        }
      ]
    },
    {
      "cell_type": "markdown",
      "source": [
        "# 11. Error Analysis"
      ],
      "metadata": {
        "id": "oxVWDJNkZ4CE"
      }
    },
    {
      "cell_type": "code",
      "source": [
        "# show a few false negatives (spam predicted as ham)\n",
        "import numpy as np\n",
        "\n",
        "nb_wrong_idx = np.where((y_test.values==1) & (nb_pred==0))[0]\n",
        "print('Number of spam missed by NB:', len(nb_wrong_idx))\n"
      ],
      "metadata": {
        "colab": {
          "base_uri": "https://localhost:8080/"
        },
        "id": "CmP_FMxFZ5t7",
        "outputId": "b7031353-625c-4d5a-9d8a-8968a8168f9f"
      },
      "execution_count": 54,
      "outputs": [
        {
          "output_type": "stream",
          "name": "stdout",
          "text": [
            "Number of spam missed by NB: 265\n"
          ]
        }
      ]
    },
    {
      "cell_type": "code",
      "source": [
        "# show up to 5 missed spam examples\n",
        "for i in nb_wrong_idx[:5]:\n",
        "  print('\\n    Message (MISSED by NB)   ')\n",
        "  print('Raw:', X_test.iloc[i])\n",
        "  print('Predicted by NB:', nb_pred[i], ' Pred by LR:', lr_pred[i])"
      ],
      "metadata": {
        "colab": {
          "base_uri": "https://localhost:8080/"
        },
        "id": "LUFsiPG2aDMH",
        "outputId": "4a8ebb44-0792-448f-b3dd-b69e2fe23cd1"
      },
      "execution_count": 57,
      "outputs": [
        {
          "output_type": "stream",
          "name": "stdout",
          "text": [
            "\n",
            "    Message (MISSED by NB)   \n",
            "Raw: file bad\n",
            "Predicted by NB: 0  Pred by LR: 1\n",
            "\n",
            "    Message (MISSED by NB)   \n",
            "Raw: harvard medical coping mpotence learn bouncy nobleleeward afterlife follyeloise boustrophedon gutsyiconoclast squeeze downfallsaguaro leftmost bayouhuckleberry traitorous caloriedusk compile catskillmemphis privy bialystokgrip tektite gratitudewy owly updraftburke whiplash silkymush accumulate ashencab\n",
            "Predicted by NB: 0  Pred by LR: 1\n",
            "\n",
            "    Message (MISSED by NB)   \n",
            "Raw: run axon exe corporate users allowed download order first buyer upgrade older licenses\n",
            "Predicted by NB: 0  Pred by LR: 1\n",
            "\n",
            "    Message (MISSED by NB)   \n",
            "Raw: name terminal port ip address login session complete dozens ports done one fi mkdir var spool printer name also account login name local host touch tree verify delta also use flag architectures discussion limit designate default router changing line escapenumber escapenumber also buy many ansi standards committee password equal previous password one way hash successfully installed freebsd onto esdi disk controlled\n",
            "Predicted by NB: 0  Pred by LR: 1\n",
            "\n",
            "    Message (MISSED by NB)   \n",
            "Raw: tracking aspects listplex give without hardware maestro leading provider campaigns latest news lists keep uptodate lists keep uptodate software marketing hosting lsoft new discussion groups optin messages tracking aspects listplex leading provider services since lsofts solutions lists keep uptodate launched industry tracking aspects listplex give without hardware latest news lists keep uptodate launched services since lsofts solutions management software marketing hosting lsoft new listserv maestro carefully targeted messages tracking provides power need groups optin campaigns latest news lists keep uptodate software marketing hosting lsoft new listserv maestro tracking aspects listplex give without optin campaigns latest news lists launched industry remains standard listplex give without hardware discussion groups optin campaigns latest\n",
            "Predicted by NB: 0  Pred by LR: 0\n"
          ]
        }
      ]
    },
    {
      "cell_type": "markdown",
      "source": [
        "# 12. Sample Predictions"
      ],
      "metadata": {
        "id": "CXgJwSToahvR"
      }
    },
    {
      "cell_type": "code",
      "source": [
        "def predict_single(text):\n",
        "  cleaned = clean_text(text)\n",
        "  vec = vectorizer.transform([cleaned])\n",
        "  nb_p = nb.predict(vec)[0]\n",
        "  lr_p = lr.predict(vec)[0]\n",
        "  nb_prob = nb.predict_proba(vec)[0,1]\n",
        "  lr_prob = lr.predict_proba(vec)[0,1]\n",
        "  return {'raw': text, 'cleaned': cleaned, 'nb_pred': int(nb_p), 'nb_prob_spam': float(nb_prob), 'lr_pred': int(lr_p), 'lr_prob_spam': float(lr_prob)}\n",
        "\n",
        "\n",
        "examples = [\n",
        "\"Congratulations! You have WON a $1000 Walmart gift card. Click here\",\n",
        "\"Hi Ananya, please review the attached minutes from today's meeting and share feedback\",\n",
        "\"Limited time OFFER: Get cheap meds, no prescription needed!\",\n",
        "]\n",
        "\n",
        "\n",
        "for e in examples:\n",
        "  print('\\n', predict_single(e))"
      ],
      "metadata": {
        "colab": {
          "base_uri": "https://localhost:8080/"
        },
        "id": "yl1jVo2vaQPl",
        "outputId": "7b3c297d-1f4b-4f35-d08d-ee6409ebeb93"
      },
      "execution_count": 58,
      "outputs": [
        {
          "output_type": "stream",
          "name": "stdout",
          "text": [
            "\n",
            " {'raw': 'Congratulations! You have WON a $1000 Walmart gift card. Click here', 'cleaned': 'congratulations walmart gift card click', 'nb_pred': 1, 'nb_prob_spam': 0.9343237044873406, 'lr_pred': 1, 'lr_prob_spam': 0.8502240680659061}\n",
            "\n",
            " {'raw': \"Hi Ananya, please review the attached minutes from today's meeting and share feedback\", 'cleaned': 'hi ananya please review attached minutes todays meeting share feedback', 'nb_pred': 0, 'nb_prob_spam': 0.202655846699817, 'lr_pred': 0, 'lr_prob_spam': 0.04694033249453965}\n",
            "\n",
            " {'raw': 'Limited time OFFER: Get cheap meds, no prescription needed!', 'cleaned': 'limited time offer get cheap meds prescription needed', 'nb_pred': 1, 'nb_prob_spam': 0.9987258324398949, 'lr_pred': 1, 'lr_prob_spam': 0.9961794865624835}\n"
          ]
        }
      ]
    }
  ]
}